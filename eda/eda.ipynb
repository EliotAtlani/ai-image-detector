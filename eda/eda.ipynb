{
 "cells": [
  {
   "cell_type": "markdown",
   "metadata": {},
   "source": [
    "# EDA\n",
    "\n",
    "Display the number of images per diffusion model"
   ]
  },
  {
   "cell_type": "code",
   "execution_count": 4,
   "metadata": {},
   "outputs": [
    {
     "name": "stdout",
     "output_type": "stream",
     "text": [
      "AI_DiffusionDB: 21292 images\n",
      "AI_LD: 31922 images\n",
      "AI_SD: 6251 images\n"
     ]
    }
   ],
   "source": [
    "import os\n",
    "from collections import defaultdict\n",
    "\n",
    "root_dir = \"../data/art/fake\"\n",
    "valid_extensions = {\".jpg\", \".jpeg\", \".png\", \".bmp\", \".gif\", \".webp\"}\n",
    "\n",
    "class_prefixes = [\"AI_DiffusionDB\", \"AI_LD\", \"AI_SD\"]\n",
    "\n",
    "image_counts = defaultdict(int)\n",
    "\n",
    "\n",
    "for subfolder in os.listdir(root_dir):\n",
    "    subfolder_path = os.path.join(root_dir, subfolder)\n",
    "    if not os.path.isdir(subfolder_path):\n",
    "        continue\n",
    "\n",
    "\n",
    "    matched_class = next(\n",
    "        (prefix for prefix in class_prefixes if subfolder.startswith(prefix)), None)\n",
    "    if matched_class:\n",
    "\n",
    "        for file in os.listdir(subfolder_path):\n",
    "            if os.path.splitext(file)[1].lower() in valid_extensions:\n",
    "                image_counts[matched_class] += 1\n",
    "\n",
    "\n",
    "for cls in class_prefixes:\n",
    "    print(f\"{cls}: {image_counts[cls]} images\")"
   ]
  },
  {
   "cell_type": "code",
   "execution_count": null,
   "metadata": {},
   "outputs": [],
   "source": []
  }
 ],
 "metadata": {
  "kernelspec": {
   "display_name": "cs109b",
   "language": "python",
   "name": "python3"
  },
  "language_info": {
   "codemirror_mode": {
    "name": "ipython",
    "version": 3
   },
   "file_extension": ".py",
   "mimetype": "text/x-python",
   "name": "python",
   "nbconvert_exporter": "python",
   "pygments_lexer": "ipython3",
   "version": "3.12.8"
  }
 },
 "nbformat": 4,
 "nbformat_minor": 2
}
