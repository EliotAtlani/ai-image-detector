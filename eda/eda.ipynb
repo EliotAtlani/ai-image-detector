{
 "cells": [
  {
   "cell_type": "markdown",
   "metadata": {},
   "source": [
    "# EDA"
   ]
  },
  {
   "cell_type": "code",
   "execution_count": 1,
   "metadata": {},
   "outputs": [],
   "source": [
    "import os\n",
    "import numpy as np\n",
    "from collections import defaultdict\n",
    "from PIL import Image\n",
    "import matplotlib.pyplot as plt\n",
    "import cv2"
   ]
  },
  {
   "cell_type": "markdown",
   "metadata": {},
   "source": [
    "Display the number of images per diffusion model for art dataset"
   ]
  },
  {
   "cell_type": "code",
   "execution_count": null,
   "metadata": {},
   "outputs": [
    {
     "name": "stdout",
     "output_type": "stream",
     "text": [
      "AI_DiffusionDB: 21292 images\n",
      "AI_LD: 31922 images\n",
      "AI_SD: 6251 images\n"
     ]
    }
   ],
   "source": [
    "root_dir = \"../data/art/fake\"\n",
    "valid_extensions = {\".jpg\", \".jpeg\", \".png\", \".bmp\", \".gif\", \".webp\"}\n",
    "\n",
    "class_prefixes = [\"AI_DiffusionDB\", \"AI_LD\", \"AI_SD\"]\n",
    "\n",
    "image_counts = defaultdict(int)\n",
    "\n",
    "\n",
    "for subfolder in os.listdir(root_dir):\n",
    "    subfolder_path = os.path.join(root_dir, subfolder)\n",
    "    if not os.path.isdir(subfolder_path):\n",
    "        continue\n",
    "\n",
    "\n",
    "    matched_class = next(\n",
    "        (prefix for prefix in class_prefixes if subfolder.startswith(prefix)), None)\n",
    "    if matched_class:\n",
    "\n",
    "        for file in os.listdir(subfolder_path):\n",
    "            if os.path.splitext(file)[1].lower() in valid_extensions:\n",
    "                image_counts[matched_class] += 1\n",
    "\n",
    "\n",
    "for cls in class_prefixes:\n",
    "    print(f\"{cls}: {image_counts[cls]} images\")"
   ]
  },
  {
   "cell_type": "markdown",
   "metadata": {},
   "source": [
    "Display the number of images per model and class for the faces dataset"
   ]
  },
  {
   "cell_type": "code",
   "execution_count": 2,
   "metadata": {},
   "outputs": [
    {
     "name": "stdout",
     "output_type": "stream",
     "text": [
      "Real images (ffhq): 70000\n",
      "\n",
      "AI-generated image breakdown:\n",
      "  - thispersondoesnotexist: 20499 images (40.23%)\n",
      "  - sfhq: 20000 images (39.25%)\n",
      "  - faceswap: 9429 images (18.50%)\n",
      "  - stable_diffusion: 1031 images (2.02%)\n",
      "\n",
      "🔍 Breakdown inside 'sfhq':\n",
      "  - pt3: 5000 images\n",
      "  - pt4: 5000 images\n",
      "  - pt2: 5000 images\n",
      "  - pt1: 5000 images\n",
      "\n",
      "Dataset Summary:\n",
      "  Total AI-generated images: 50959\n",
      "  Total real images: 70000\n",
      "  Total images: 120959\n",
      "  % Real: 57.87%\n",
      "  % AI-generated: 42.13%\n"
     ]
    }
   ],
   "source": [
    "base_path = \"../data\"\n",
    "fake_base_path = os.path.join(base_path, \"fake\")\n",
    "real_path = os.path.join(base_path, \"ffhq\")\n",
    "image_extensions = ('.png', '.jpg', '.jpeg', '.bmp', '.gif')\n",
    "\n",
    "real_images = [f for f in os.listdir(real_path) if f.lower().endswith(image_extensions)]\n",
    "real_count = len(real_images)\n",
    "\n",
    "fake_counts = {}\n",
    "sfhq_subcounts = {}\n",
    "total_fake = 0\n",
    "\n",
    "for subfolder in os.listdir(fake_base_path):\n",
    "    subfolder_path = os.path.join(fake_base_path, subfolder)\n",
    "\n",
    "    if not os.path.isdir(subfolder_path):\n",
    "        continue\n",
    "\n",
    "    if subfolder == \"sfhq\":\n",
    "        sfhq_total = 0\n",
    "        for nested in os.listdir(subfolder_path):\n",
    "            nested_path = os.path.join(subfolder_path, nested)\n",
    "            if os.path.isdir(nested_path):\n",
    "                count = len([\n",
    "                    f for f in os.listdir(nested_path)\n",
    "                    if f.lower().endswith(image_extensions)\n",
    "                ])\n",
    "                sfhq_subcounts[nested] = count\n",
    "                sfhq_total += count\n",
    "        fake_counts[\"sfhq\"] = sfhq_total\n",
    "        total_fake += sfhq_total\n",
    "\n",
    "    else:\n",
    "        images = [f for f in os.listdir(subfolder_path) if f.lower().endswith(image_extensions)]\n",
    "        count = len(images)\n",
    "        fake_counts[subfolder] = count\n",
    "        total_fake += count\n",
    "\n",
    "total_images = real_count + total_fake\n",
    "real_percentage = (real_count / total_images) * 100 if total_images > 0 else 0\n",
    "fake_percentage = (total_fake / total_images) * 100 if total_images > 0 else 0\n",
    "\n",
    "# --- Output ---\n",
    "print(f\"Real images (ffhq): {real_count}\\n\")\n",
    "\n",
    "print(f\"AI-generated image breakdown:\")\n",
    "for subfolder, count in fake_counts.items():\n",
    "    percentage = (count / total_fake) * 100 if total_fake > 0 else 0\n",
    "    print(f\"  - {subfolder}: {count} images ({percentage:.2f}%)\")\n",
    "\n",
    "print(f\"\\n🔍 Breakdown inside 'sfhq':\")\n",
    "for nested, count in sfhq_subcounts.items():\n",
    "    print(f\"  - {nested}: {count} images\")\n",
    "\n",
    "print(f\"\\nDataset Summary:\")\n",
    "print(f\"  Total AI-generated images: {total_fake}\")\n",
    "print(f\"  Total real images: {real_count}\")\n",
    "print(f\"  Total images: {total_images}\")\n",
    "print(f\"  % Real: {real_percentage:.2f}%\")\n",
    "print(f\"  % AI-generated: {fake_percentage:.2f}%\")"
   ]
  },
  {
   "cell_type": "markdown",
   "metadata": {},
   "source": [
    "## Image Quality and Pixel Color Analysis"
   ]
  },
  {
   "cell_type": "markdown",
   "metadata": {},
   "source": [
    "We will now perform some basic exploratory data analysis (EDA) on the datasets. This will help us understand the distribution of images across different diffusion models and classes.\n",
    "\n",
    "We will focus on two key aspects of evaluating and comparing the quality of our images across classes (AI generated or not) and across datasets (art, faces or other):\n",
    "\n",
    "1.  Color and Pixel-Level Analysis\n",
    "We will compute the average color histograms (RGB channels) for each group in order to compare the mean pixel intensity per class and the RGB channel distribution.\n",
    "\n",
    "2. Other image quality metrics\n",
    "We will observe the blurriness and noise levels of each dataset and class."
   ]
  },
  {
   "cell_type": "markdown",
   "metadata": {},
   "source": [
    "--> for the face dataset"
   ]
  },
  {
   "cell_type": "code",
   "execution_count": null,
   "metadata": {},
   "outputs": [
    {
     "ename": "",
     "evalue": "",
     "output_type": "error",
     "traceback": [
      "\u001b[1;31mThe Kernel crashed while executing code in the current cell or a previous cell. \n",
      "\u001b[1;31mPlease review the code in the cell(s) to identify a possible cause of the failure. \n",
      "\u001b[1;31mClick <a href='https://aka.ms/vscodeJupyterKernelCrash'>here</a> for more info. \n",
      "\u001b[1;31mView Jupyter <a href='command:jupyter.viewOutput'>log</a> for further details."
     ]
    }
   ],
   "source": [
    "base_path = '../data_resized'\n",
    "class_names = {0: 'Real', 1: 'AI'}"
   ]
  },
  {
   "cell_type": "markdown",
   "metadata": {},
   "source": [
    "### La cell en dessous a été run pendant 30min mais pas encore terminée. Je pense il fautdrait quand meme faire ce test mais sur un subset."
   ]
  },
  {
   "cell_type": "code",
   "execution_count": null,
   "metadata": {},
   "outputs": [],
   "source": [
    "mean_colors = {}\n",
    "all_histograms = {}\n",
    "\n",
    "for class_id in [0, 1]:\n",
    "    class_path = os.path.join(base_path, str(class_id))\n",
    "    pixel_values = []\n",
    "    histograms = []\n",
    "\n",
    "    for filename in os.listdir(class_path):\n",
    "        filepath = os.path.join(class_path, filename)\n",
    "        try:\n",
    "            img = Image.open(filepath).convert(\"RGB\")\n",
    "            img_np = np.array(img)\n",
    "\n",
    "            for c in range(3):  # RGB\n",
    "                hist, _ = np.histogram(img_np[..., c], bins=256, range=(0, 256))\n",
    "                histograms.append(hist)\n",
    "\n",
    "            pixel_values.append(img_np)\n",
    "\n",
    "        except Exception as e:\n",
    "            print(f\"Skipping {filepath}: {e}\")\n",
    "\n",
    "    pixel_values = np.stack(pixel_values)\n",
    "    mean_pixel = pixel_values.mean(axis=(0, 1, 2))\n",
    "    mean_colors[class_id] = mean_pixel\n",
    "\n",
    "    # av histograms\n",
    "    histograms = np.array(histograms).reshape(-1, 256)\n",
    "    mean_histogram = histograms.mean(axis=0)\n",
    "    all_histograms[class_id] = mean_histogram\n",
    "\n",
    "plt.figure(figsize=(12, 6))\n",
    "colors = ['red', 'green', 'blue']\n",
    "for class_id, hist in all_histograms.items():\n",
    "    plt.plot(hist, label=f'{class_names[class_id]}', alpha=0.7)\n",
    "\n",
    "plt.title('Average RGB Histogram')\n",
    "plt.xlabel('Pixel Intensity')\n",
    "plt.ylabel('Frequency (normalized)')\n",
    "plt.legend()\n",
    "plt.grid()\n",
    "plt.show()\n",
    "\n",
    "for class_id, mean_color in mean_colors.items():\n",
    "    print(f\"{class_names[class_id]} - Mean RGB: {mean_color.round(2)}\")"
   ]
  },
  {
   "cell_type": "code",
   "execution_count": null,
   "metadata": {},
   "outputs": [
    {
     "data": {
      "image/png": "[encoded data removed]",
      "text/plain": [
       "<Figure size 1200x500 with 1 Axes>"
      ]
     },
     "metadata": {},
     "output_type": "display_data"
    },
    {
     "data": {
      "image/png": "[encoded data removed]",
      "text/plain": [
       "<Figure size 1200x500 with 1 Axes>"
      ]
     },
     "metadata": {},
     "output_type": "display_data"
    },
    {
     "ename": "",
     "evalue": "",
     "output_type": "error",
     "traceback": [
      "\u001b[1;31mThe Kernel crashed while executing code in the current cell or a previous cell. \n",
      "\u001b[1;31mPlease review the code in the cell(s) to identify a possible cause of the failure. \n",
      "\u001b[1;31mClick <a href='https://aka.ms/vscodeJupyterKernelCrash'>here</a> for more info. \n",
      "\u001b[1;31mView Jupyter <a href='command:jupyter.viewOutput'>log</a> for further details."
     ]
    }
   ],
   "source": [
    "blurriness_scores = {0: [], 1: []}\n",
    "noise_scores = {0: [], 1: []}\n",
    "\n",
    "def calculate_blurriness(img_gray):\n",
    "    # Higher → sharper, Lower → blurrier\n",
    "    return cv2.Laplacian(img_gray, cv2.CV_64F).var()\n",
    "\n",
    "def estimate_noise(img_gray):\n",
    "    return np.std(img_gray)\n",
    "\n",
    "for class_id in [0, 1]:\n",
    "    class_path = os.path.join(base_path, str(class_id))\n",
    "\n",
    "    for filename in os.listdir(class_path):\n",
    "        filepath = os.path.join(class_path, filename)\n",
    "        try:\n",
    "            img = cv2.imread(filepath)\n",
    "            gray = cv2.cvtColor(img, cv2.COLOR_BGR2GRAY)\n",
    "\n",
    "            blurriness = calculate_blurriness(gray)\n",
    "            noise = estimate_noise(gray)\n",
    "\n",
    "            blurriness_scores[class_id].append(blurriness)\n",
    "            noise_scores[class_id].append(noise)\n",
    "\n",
    "        except Exception as e:\n",
    "            print(f\"Skipping {filepath}: {e}\")\n",
    "\n",
    "#bluriness\n",
    "plt.figure(figsize=(12, 5))\n",
    "plt.hist(blurriness_scores[0], bins=30, alpha=0.6, label='Real', color='blue')\n",
    "plt.hist(blurriness_scores[1], bins=30, alpha=0.6, label='AI', color='orange')\n",
    "plt.title(\"Image Blurriness Distribution\")\n",
    "plt.xlabel(\"Laplacian Variance\")\n",
    "plt.ylabel(\"Frequency\")\n",
    "plt.legend()\n",
    "plt.grid()\n",
    "plt.show()\n",
    "\n",
    "#noise\n",
    "plt.figure(figsize=(12, 5))\n",
    "plt.hist(noise_scores[0], bins=30, alpha=0.6, label='Real', color='blue')\n",
    "plt.hist(noise_scores[1], bins=30, alpha=0.6, label='AI', color='orange')\n",
    "plt.title(\"Image Noise Distribution\")\n",
    "plt.xlabel(\"Standard Deviation of Pixel Intensity\")\n",
    "plt.ylabel(\"Frequency\")\n",
    "plt.legend()\n",
    "plt.grid()\n",
    "plt.show()"
   ]
  },
  {
   "cell_type": "markdown",
   "metadata": {},
   "source": [
    "From the image bluriness distribution, we observe that even though there is some overlap, the AI images are generally blurrier and the real images have a wider range of sharpness (longer tail), which suggests more natural variation in real photos.\n",
    "\n",
    "From the image noise distribution, the overlap is higher, but we observe again a slight difference between AI and Real images which have a higher noise level. This makes sense with the fact that real images tend to contain more natural variation or \"imperfections\" in pixel intensity. This feature/effect might be harder for AI generators to grasp and replicate, which explains the lower noise as well.\n",
    "\n",
    "Overall, these could be good features to use in a classification task to distinguish between AI and real images. However, we should be careful with the interpretation of these results, as they are not definitive and could be influenced by other factors such as the specific models used for generation or the dataset itself. \n",
    "\n",
    "### Comparing these plots for all three datasets already give us different distribution results??"
   ]
  },
  {
   "cell_type": "markdown",
   "metadata": {},
   "source": [
    "## Pixel Normalization"
   ]
  },
  {
   "cell_type": "markdown",
   "metadata": {},
   "source": [
    "Lastly, we will normalise the pixels of our images as it is a common preprocessing step in image deep learning tasks. However, we will not perform this step now as the normalisation will be done in the model building milestone of the project, since the range we will bring our pixels' values to will depend on the model we choose (ex [0, 1] or [-1, 1])."
   ]
  }
 ],
 "metadata": {
  "kernelspec": {
   "display_name": "cs109a",
   "language": "python",
   "name": "python3"
  },
  "language_info": {
   "codemirror_mode": {
    "name": "ipython",
    "version": 3
   },
   "file_extension": ".py",
   "mimetype": "text/x-python",
   "name": "python",
   "nbconvert_exporter": "python",
   "pygments_lexer": "ipython3",
   "version": "3.12.5"
  }
 },
 "nbformat": 4,
 "nbformat_minor": 2
}
